{
 "cells": [
  {
   "cell_type": "code",
   "execution_count": 1,
   "id": "14b9e08d-e766-4bdc-84f8-afae4bb6ee35",
   "metadata": {},
   "outputs": [],
   "source": [
    "#config\n",
    "width = 80\n",
    "school_name = 'Sainik Public School'"
   ]
  },
  {
   "cell_type": "code",
   "execution_count": 2,
   "id": "5edea3b7-71e4-4952-8064-c64a7be4b707",
   "metadata": {},
   "outputs": [],
   "source": [
    "#global variable\n",
    "stud_db = {}\n",
    "max_retry = 3\n",
    "teacher_db = {'name':'Tejas','username':'tejas','password':'123'}\n",
    "student_db = {}"
   ]
  },
  {
   "cell_type": "code",
   "execution_count": 3,
   "id": "99c54f9a-55b6-4ea4-bdb9-b1989310ca0a",
   "metadata": {},
   "outputs": [],
   "source": [
    "#error msg\n",
    "invalid_output = 'Please select inappropriate option !!!'\n",
    "cred_error = 'invalid credentials'\n",
    "success_login = 'logged in successful !!!!'\n",
    "details_error = 'No details found!!'\n",
    "retry_error = 'maximum retries exceeded!!!'"
   ]
  },
  {
   "cell_type": "code",
   "execution_count": 4,
   "id": "b7b38786-15d3-416d-8ad9-da9ce06a8af8",
   "metadata": {},
   "outputs": [],
   "source": [
    "#business logic\n",
    "def header(mesg = None):\n",
    "    head = '-'* width \n",
    "    print(f'{head} \\n{school_name.center(width)}')\n",
    "    if mesg:\n",
    "        print(mesg)\n",
    "    print(head)\n",
    "def user_input(ch,max_exp_value):\n",
    "    ch = int(input('enter your choice'))\n",
    "    if ch in range(1,max_exp_value+1):\n",
    "        return ch\n",
    "    else:\n",
    "        print(invalid_output)\n",
    "\n",
    "\n",
    "def first_screen():\n",
    "    choice = ['Teacher Login','Student Login','Exit']\n",
    "    for i in range(max_retry):\n",
    "        for i,j in enumerate(choice,1):\n",
    "            print(f'{i}. {j}')\n",
    "        return user_input('enter your choice : ',3)\n",
    "        \n",
    "def teacher_section(ch):\n",
    "    user_name = input('enter your username : ')\n",
    "    pswd = input('enter yout password : ')\n",
    "    for i in range(max_retry):\n",
    "        if user_name == teacher_db['username'] and pswd == teacher_db['password']:\n",
    "            print(f' Hey {teacher_db['name']} {success_login}')\n",
    "            teacher_logged_in()\n",
    "        else:\n",
    "            print(cred_error)\n",
    "    return False\n",
    "def teacher_logged_in():\n",
    "    header(\"Teacher's Console\".center(width))\n",
    "    teacher_option = ['Enter Student Result','Search Name','Get Result','Exit']\n",
    "    for l,m in enumerate(teacher_option,1):\n",
    "        print(f'{l}. {m}')\n",
    "    while True:\n",
    "        global student_db\n",
    "        global roll_no\n",
    "        t_ch = int(input('enter your choice : '))\n",
    "        if t_ch == 1:\n",
    "            header(\"Teacher's console\".center(width))\n",
    "            \n",
    "            roll_no = int(input('enter the roll no of student : '))\n",
    "            stu_name = input('enter student name : ')\n",
    "            eng = int(input('enter marks for eng : '))\n",
    "            maths = int(input('enter marks for maths : '))\n",
    "            per_cent = (eng + maths)/200*100\n",
    "            student_db[roll_no] = {'name':stu_name,'English':eng,'Maths':maths,'Percentage':per_cent}\n",
    "            teacher_logged_in()\n",
    "            \n",
    "        elif t_ch == 2:\n",
    "            header(\"Teacher's console\".center(width))\n",
    "            search_name = input('enter your name : ')\n",
    "            name = []\n",
    "            for roll_no,details in student_db.items():\n",
    "                name = details['name']\n",
    "                print(f\"Roll No: {roll_no}, Name: {name}\")\n",
    "        elif t_ch == 3:\n",
    "            header(\"Teacher's console\".center(width))\n",
    "            search_roll = int(input('enter your roll no. : '))\n",
    "            if search_roll in student_db:\n",
    "                header('Student Console'.center(width))\n",
    "                head = '-'* 80\n",
    "                print(f\"Name : {student_db[roll_no]['name']} \\nRoll number : {search_roll} \\n{head}\\nEnglish:{student_db[roll_no]['English']} \\nMaths:{student_db[roll_no]['Maths']}\\n{head}\\nPercentage :{student_db[roll_no]['Percentage']}\")\n",
    "                header('Student Console'.center(width))\n",
    "                teacher_logged_in()\n",
    "        elif t_ch == 4:\n",
    "            print('Thanks!! Your session has been ended')\n",
    "            first_screen()\n",
    "            return\n",
    "        else:\n",
    "            print(invalid_output)\n",
    "    \n",
    "\n",
    "   \n",
    "def student_section(ch):\n",
    "    header('Student Console'.center(width))\n",
    "    stud_option = ['Get Rssult','Search Roll no','Exit']\n",
    "    for z,y in enumerate(stud_option,1):\n",
    "        print(f'{z}. {y}')\n",
    "    while True:\n",
    "        global student_db\n",
    "        global roll_no\n",
    "        header('Student Console'.center(width))\n",
    "        t_ch = int(input('enter your choice : '))\n",
    "        if ch == 1:\n",
    "            header('Student Console'.center(width))\n",
    "            student_db[roll_no] = {'name':stu_name,'English':eng,'Maths':maths,'Percentage':per_cent}\n",
    "            print(student_db[roll_no])\n",
    "        elif ch == 2:\n",
    "            header('Student Console'.center(width))\n",
    "            search_roll = int(input('enter your roll no. : '))\n",
    "            if search_roll in student_db:\n",
    "                sorted_stud = sorted(student_db.items(reverse = True))\n",
    "                head = '-'* 80\n",
    "                print(f\"Name : {student_db[roll_no]['name']} \\nRoll number : {search_roll} \\n{head}\\nEnglish:{student_db[roll_no]['English']} \\nMaths:{student_db[roll_no]['Maths']}\\n{head}\\nPercentage :{student_db[roll_no]['Percentage']}\")\n",
    "                header()\n",
    "                teacher_logged_in()\n",
    "        elif ch == 3:\n",
    "            break\n",
    "        else:\n",
    "            print(invalid_output)"
   ]
  },
  {
   "cell_type": "code",
   "execution_count": 5,
   "id": "1af9f411-a6ed-4039-8e0c-39e8fb1b736e",
   "metadata": {},
   "outputs": [],
   "source": [
    "#main function\n",
    "def main():\n",
    "    header()\n",
    "    ch = first_screen()\n",
    "    if ch == 1:\n",
    "        teacher_section(ch)\n",
    "    elif ch == 2:\n",
    "        student_section(ch)\n",
    "    elif ch == 3:\n",
    "        return\n",
    "    else:\n",
    "        print(invalid_output)\n",
    "        "
   ]
  },
  {
   "cell_type": "code",
   "execution_count": null,
   "id": "b1ff701c-d49a-4d76-a803-d7c6e9d190c0",
   "metadata": {},
   "outputs": [
    {
     "name": "stdout",
     "output_type": "stream",
     "text": [
      "-------------------------------------------------------------------------------- \n",
      "                              Sainik Public School                              \n",
      "--------------------------------------------------------------------------------\n",
      "1. Teacher Login\n",
      "2. Student Login\n",
      "3. Exit\n"
     ]
    },
    {
     "name": "stdin",
     "output_type": "stream",
     "text": [
      "enter your choice 1\n",
      "enter your username :  tejas\n",
      "enter yout password :  123\n"
     ]
    },
    {
     "name": "stdout",
     "output_type": "stream",
     "text": [
      " Hey Tejas logged in successful !!!!\n",
      "-------------------------------------------------------------------------------- \n",
      "                              Sainik Public School                              \n",
      "                               Teacher's Console                                \n",
      "--------------------------------------------------------------------------------\n",
      "1. Enter Student Result\n",
      "2. Search Name\n",
      "3. Get Result\n",
      "4. Exit\n"
     ]
    },
    {
     "name": "stdin",
     "output_type": "stream",
     "text": [
      "enter your choice :  1\n"
     ]
    },
    {
     "name": "stdout",
     "output_type": "stream",
     "text": [
      "-------------------------------------------------------------------------------- \n",
      "                              Sainik Public School                              \n",
      "                               Teacher's console                                \n",
      "--------------------------------------------------------------------------------\n"
     ]
    },
    {
     "name": "stdin",
     "output_type": "stream",
     "text": [
      "enter the roll no of student :  102\n",
      "enter student name :  pravin gaikwad\n",
      "enter marks for eng :  99\n",
      "enter marks for maths :  89\n"
     ]
    },
    {
     "name": "stdout",
     "output_type": "stream",
     "text": [
      "-------------------------------------------------------------------------------- \n",
      "                              Sainik Public School                              \n",
      "                               Teacher's Console                                \n",
      "--------------------------------------------------------------------------------\n",
      "1. Enter Student Result\n",
      "2. Search Name\n",
      "3. Get Result\n",
      "4. Exit\n"
     ]
    },
    {
     "name": "stdin",
     "output_type": "stream",
     "text": [
      "enter your choice :  2\n"
     ]
    },
    {
     "name": "stdout",
     "output_type": "stream",
     "text": [
      "-------------------------------------------------------------------------------- \n",
      "                              Sainik Public School                              \n",
      "                               Teacher's console                                \n",
      "--------------------------------------------------------------------------------\n"
     ]
    },
    {
     "name": "stdin",
     "output_type": "stream",
     "text": [
      "enter your name :  pravin\n"
     ]
    },
    {
     "name": "stdout",
     "output_type": "stream",
     "text": [
      "Roll No: 101, Name: pravin patil\n",
      "Roll No: 102, Name: pravin gaikwad\n"
     ]
    },
    {
     "name": "stdin",
     "output_type": "stream",
     "text": [
      "enter your choice :  3\n"
     ]
    },
    {
     "name": "stdout",
     "output_type": "stream",
     "text": [
      "-------------------------------------------------------------------------------- \n",
      "                              Sainik Public School                              \n",
      "                               Teacher's console                                \n",
      "--------------------------------------------------------------------------------\n"
     ]
    },
    {
     "name": "stdin",
     "output_type": "stream",
     "text": [
      "enter your roll no. :  101\n"
     ]
    },
    {
     "name": "stdout",
     "output_type": "stream",
     "text": [
      "-------------------------------------------------------------------------------- \n",
      "                              Sainik Public School                              \n",
      "                                Student Console                                 \n",
      "--------------------------------------------------------------------------------\n",
      "Name : pravin gaikwad \n",
      "Roll number : 101 \n",
      "--------------------------------------------------------------------------------\n",
      "English:99 \n",
      "Maths:89\n",
      "--------------------------------------------------------------------------------\n",
      "Percentage :94.0\n",
      "-------------------------------------------------------------------------------- \n",
      "                              Sainik Public School                              \n",
      "                                Student Console                                 \n",
      "--------------------------------------------------------------------------------\n",
      "-------------------------------------------------------------------------------- \n",
      "                              Sainik Public School                              \n",
      "                               Teacher's Console                                \n",
      "--------------------------------------------------------------------------------\n",
      "1. Enter Student Result\n",
      "2. Search Name\n",
      "3. Get Result\n",
      "4. Exit\n"
     ]
    },
    {
     "name": "stdin",
     "output_type": "stream",
     "text": [
      "enter your choice :  4\n"
     ]
    },
    {
     "name": "stdout",
     "output_type": "stream",
     "text": [
      "Thanks!! Your session has been ended\n",
      "1. Teacher Login\n",
      "2. Student Login\n",
      "3. Exit\n"
     ]
    },
    {
     "name": "stdin",
     "output_type": "stream",
     "text": [
      "enter your choice 2\n",
      "enter your choice :  2\n"
     ]
    },
    {
     "name": "stdout",
     "output_type": "stream",
     "text": [
      "-------------------------------------------------------------------------------- \n",
      "                              Sainik Public School                              \n",
      "                               Teacher's console                                \n",
      "--------------------------------------------------------------------------------\n"
     ]
    },
    {
     "name": "stdin",
     "output_type": "stream",
     "text": [
      "enter your name :  pravin\n"
     ]
    },
    {
     "name": "stdout",
     "output_type": "stream",
     "text": [
      "Roll No: 101, Name: pravin patil\n",
      "Roll No: 102, Name: pravin gaikwad\n"
     ]
    },
    {
     "name": "stdin",
     "output_type": "stream",
     "text": [
      "enter your choice :  2\n"
     ]
    },
    {
     "name": "stdout",
     "output_type": "stream",
     "text": [
      "-------------------------------------------------------------------------------- \n",
      "                              Sainik Public School                              \n",
      "                               Teacher's console                                \n",
      "--------------------------------------------------------------------------------\n"
     ]
    },
    {
     "name": "stdin",
     "output_type": "stream",
     "text": [
      "enter your name :  pravin\n"
     ]
    },
    {
     "name": "stdout",
     "output_type": "stream",
     "text": [
      "Roll No: 101, Name: pravin patil\n",
      "Roll No: 102, Name: pravin gaikwad\n"
     ]
    },
    {
     "name": "stdin",
     "output_type": "stream",
     "text": [
      "enter your choice :  3\n"
     ]
    },
    {
     "name": "stdout",
     "output_type": "stream",
     "text": [
      "-------------------------------------------------------------------------------- \n",
      "                              Sainik Public School                              \n",
      "                               Teacher's console                                \n",
      "--------------------------------------------------------------------------------\n"
     ]
    },
    {
     "name": "stdin",
     "output_type": "stream",
     "text": [
      "enter your roll no. :  102\n"
     ]
    },
    {
     "name": "stdout",
     "output_type": "stream",
     "text": [
      "-------------------------------------------------------------------------------- \n",
      "                              Sainik Public School                              \n",
      "                                Student Console                                 \n",
      "--------------------------------------------------------------------------------\n",
      "Name : pravin gaikwad \n",
      "Roll number : 102 \n",
      "--------------------------------------------------------------------------------\n",
      "English:99 \n",
      "Maths:89\n",
      "--------------------------------------------------------------------------------\n",
      "Percentage :94.0\n",
      "-------------------------------------------------------------------------------- \n",
      "                              Sainik Public School                              \n",
      "                                Student Console                                 \n",
      "--------------------------------------------------------------------------------\n",
      "-------------------------------------------------------------------------------- \n",
      "                              Sainik Public School                              \n",
      "                               Teacher's Console                                \n",
      "--------------------------------------------------------------------------------\n",
      "1. Enter Student Result\n",
      "2. Search Name\n",
      "3. Get Result\n",
      "4. Exit\n"
     ]
    }
   ],
   "source": [
    "#excecution\n",
    "main()"
   ]
  },
  {
   "cell_type": "code",
   "execution_count": 92,
   "id": "46b52086-2b0c-4b7c-8a52-bd660afe813b",
   "metadata": {},
   "outputs": [
    {
     "name": "stdout",
     "output_type": "stream",
     "text": [
      "{1: {'name': 'pravin', 'English': 88, 'Maths': 89, 'Percentage': 88.5}, 2: {'name': 'pravin gaikwad', 'English': 76, 'Maths': 67, 'Percentage': 71.5}}\n"
     ]
    }
   ],
   "source": [
    "print(student_db)"
   ]
  },
  {
   "cell_type": "code",
   "execution_count": 86,
   "id": "fa1828b8-54e9-4f80-aa81-2e26dbd9ccf7",
   "metadata": {},
   "outputs": [
    {
     "name": "stdout",
     "output_type": "stream",
     "text": [
      "{'name': 'pravin', 'English': 88, 'Maths': 89, 'Percentage': 88.5}\n"
     ]
    }
   ],
   "source": [
    "print(student_db[1])"
   ]
  },
  {
   "cell_type": "code",
   "execution_count": null,
   "id": "f37cdbfa-0d69-4b05-a3cb-77191b95d295",
   "metadata": {},
   "outputs": [],
   "source": []
  }
 ],
 "metadata": {
  "kernelspec": {
   "display_name": "Python 3 (ipykernel)",
   "language": "python",
   "name": "python3"
  },
  "language_info": {
   "codemirror_mode": {
    "name": "ipython",
    "version": 3
   },
   "file_extension": ".py",
   "mimetype": "text/x-python",
   "name": "python",
   "nbconvert_exporter": "python",
   "pygments_lexer": "ipython3",
   "version": "3.12.2"
  }
 },
 "nbformat": 4,
 "nbformat_minor": 5
}
