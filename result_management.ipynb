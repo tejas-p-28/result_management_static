{
 "cells": [
  {
   "cell_type": "code",
   "execution_count": 1,
   "id": "14b9e08d-e766-4bdc-84f8-afae4bb6ee35",
   "metadata": {},
   "outputs": [],
   "source": [
    "#config\n",
    "width = 80\n",
    "school_name = 'Sainik Public School'\n"
   ]
  },
  {
   "cell_type": "code",
   "execution_count": 2,
   "id": "5edea3b7-71e4-4952-8064-c64a7be4b707",
   "metadata": {},
   "outputs": [],
   "source": [
    "#global variable\n",
    "stud_db = {}\n",
    "max_retry = 3\n",
    "teacher_db = {'name':'Tejas','username':'tejas','password':'123'}\n",
    "student_db = {}"
   ]
  },
  {
   "cell_type": "code",
   "execution_count": 3,
   "id": "99c54f9a-55b6-4ea4-bdb9-b1989310ca0a",
   "metadata": {},
   "outputs": [],
   "source": [
    "#error msg\n",
    "invalid_output = 'Please select inappropriate option !!!'\n",
    "cred_error = 'invalid credentials'\n",
    "success_login = 'logged in successful !!!!'\n"
   ]
  },
  {
   "cell_type": "code",
   "execution_count": 23,
   "id": "b7b38786-15d3-416d-8ad9-da9ce06a8af8",
   "metadata": {},
   "outputs": [],
   "source": [
    "#business logic\n",
    "def header(mesg = None):\n",
    "    head = '-'* width \n",
    "    print(f'{head} \\n{school_name.center(width)}')\n",
    "    if mesg:\n",
    "        print(mesg)\n",
    "    print(head)\n",
    "def user_input(ch,max_exp_value):\n",
    "    for i in range(max_retry):\n",
    "        ch = int(input('enter your choice'))\n",
    "        if ch in range(1,max_exp_value+1):\n",
    "            return ch\n",
    "        else:\n",
    "            print(invalid_output)\n",
    "    print(retry_error)\n",
    "\n",
    "def first_screen():\n",
    "    choice = ['Teacher Login','Student Login','Exit']\n",
    "    for i in range(max_retry):\n",
    "        for i,j in enumerate(choice,1):\n",
    "            print(f'{i}. {j}')\n",
    "        return user_input('enter your choice : ',3)\n",
    "    \n",
    "        \n",
    "\n",
    "    return ch\n",
    "def teacher_section(ch):\n",
    "    user_name = input('enter your username : ')\n",
    "    pswd = input('enter yout password : ')\n",
    "    if user_name in teacher_db['username'] and pswd == teacher_db['password']:\n",
    "        print(f' Hey {teacher_db['name']} {success_login}')\n",
    "        teacher_logged_in()\n",
    "    else:\n",
    "        print(cred_error)\n",
    "def teacher_logged_in():\n",
    "    header(\"Teacher's Console\".center(width))\n",
    "    teacher_option = ['Enter Student Result','Search Name','Get Result','Exit']\n",
    "    for l,m in enumerate(teacher_option,1):\n",
    "        print(f'{l}. {m}')\n",
    "    \n",
    "    while True:\n",
    "        t_ch = int(input('enter you choice : ')) \n",
    "        if t_ch == 1:\n",
    "            header(\"Teacher's console\".center(width))\n",
    "            roll_no = int(input('enter the roll no of student : '))\n",
    "            stu_name = input('enter student name : ')\n",
    "            eng = int(input('enter marks for eng : '))\n",
    "            maths = int(input('enter marks for maths : '))\n",
    "            per_cent = (eng + maths)/200*100\n",
    "            student_db[roll_no] = {'name':stu_name,'English':eng,'Maths':maths,'Percentage':per_cent}\n",
    "            return student_db    \n",
    "        elif t_ch == 2:\n",
    "            search_name = input('enter your name : ')\n",
    "            if search_name in student_db:\n",
    "                print(student['name'])\n",
    "        elif t_ch == 3:\n",
    "            pass\n",
    "        elif t_ch == 4:\n",
    "            pass\n",
    "        else:\n",
    "            print(invalid_output)\n",
    "def student_section():\n",
    "    print('student')"
   ]
  },
  {
   "cell_type": "code",
   "execution_count": 24,
   "id": "1af9f411-a6ed-4039-8e0c-39e8fb1b736e",
   "metadata": {},
   "outputs": [],
   "source": [
    "#main function\n",
    "def main():\n",
    "    header()\n",
    "    ch = first_screen()\n",
    "    if ch == 1:\n",
    "        teacher_section(ch)\n",
    "    elif choice == 2:\n",
    "        student_section()\n",
    "    elif choice == 3:\n",
    "        return\n",
    "    else:\n",
    "        print(invalid_output)\n",
    "        "
   ]
  },
  {
   "cell_type": "code",
   "execution_count": 25,
   "id": "b1ff701c-d49a-4d76-a803-d7c6e9d190c0",
   "metadata": {},
   "outputs": [
    {
     "name": "stdout",
     "output_type": "stream",
     "text": [
      "-------------------------------------------------------------------------------- \n",
      "                              Sainik Public School                              \n",
      "--------------------------------------------------------------------------------\n",
      "1. Teacher Login\n",
      "2. Student Login\n",
      "3. Exit\n"
     ]
    },
    {
     "name": "stdin",
     "output_type": "stream",
     "text": [
      "enter your choice 1\n",
      "enter your username :  tejas\n",
      "enter yout password :  123\n"
     ]
    },
    {
     "name": "stdout",
     "output_type": "stream",
     "text": [
      " Hey Tejas logged in successful !!!!\n",
      "-------------------------------------------------------------------------------- \n",
      "                              Sainik Public School                              \n",
      "                               Teacher's Console                                \n",
      "--------------------------------------------------------------------------------\n",
      "1. Enter Student Result\n",
      "2. Search Name\n",
      "3. Get Result\n",
      "4. Exit\n"
     ]
    },
    {
     "name": "stdin",
     "output_type": "stream",
     "text": [
      "enter you choice :  1\n"
     ]
    },
    {
     "name": "stdout",
     "output_type": "stream",
     "text": [
      "-------------------------------------------------------------------------------- \n",
      "                              Sainik Public School                              \n",
      "                               Teacher's console                                \n",
      "--------------------------------------------------------------------------------\n"
     ]
    },
    {
     "name": "stdin",
     "output_type": "stream",
     "text": [
      "enter the roll no of student :  1\n",
      "enter student name :  shivangi\n",
      "enter marks for eng :  89\n",
      "enter marks for maths :  98\n"
     ]
    }
   ],
   "source": [
    "#excecution\n",
    "main()"
   ]
  },
  {
   "cell_type": "code",
   "execution_count": 26,
   "id": "46b52086-2b0c-4b7c-8a52-bd660afe813b",
   "metadata": {},
   "outputs": [
    {
     "name": "stdout",
     "output_type": "stream",
     "text": [
      "{1: {'name': 'shivangi', 'English': 89, 'Maths': 98, 'Percentage': 93.5}}\n"
     ]
    }
   ],
   "source": [
    "print(student_db)"
   ]
  },
  {
   "cell_type": "code",
   "execution_count": null,
   "id": "fa1828b8-54e9-4f80-aa81-2e26dbd9ccf7",
   "metadata": {},
   "outputs": [],
   "source": []
  }
 ],
 "metadata": {
  "kernelspec": {
   "display_name": "Python 3 (ipykernel)",
   "language": "python",
   "name": "python3"
  },
  "language_info": {
   "codemirror_mode": {
    "name": "ipython",
    "version": 3
   },
   "file_extension": ".py",
   "mimetype": "text/x-python",
   "name": "python",
   "nbconvert_exporter": "python",
   "pygments_lexer": "ipython3",
   "version": "3.12.2"
  }
 },
 "nbformat": 4,
 "nbformat_minor": 5
}
