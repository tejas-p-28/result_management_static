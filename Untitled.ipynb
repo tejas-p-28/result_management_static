{
 "cells": [
  {
   "cell_type": "code",
   "execution_count": null,
   "id": "e21ed4d4-4f0e-453d-ab6e-7f623abb6c24",
   "metadata": {},
   "outputs": [
    {
     "name": "stdin",
     "output_type": "stream",
     "text": [
      "enter your name :  pravin\n"
     ]
    },
    {
     "name": "stdout",
     "output_type": "stream",
     "text": [
      "--Call--\n",
      "> \u001b[1;32mc:\\users\\admin\\appdata\\local\\programs\\python\\python312\\lib\\site-packages\\ipython\\core\\displayhook.py\u001b[0m(258)\u001b[0;36m__call__\u001b[1;34m()\u001b[0m\n",
      "\u001b[1;32m    256 \u001b[1;33m        \u001b[0msys\u001b[0m\u001b[1;33m.\u001b[0m\u001b[0mstdout\u001b[0m\u001b[1;33m.\u001b[0m\u001b[0mflush\u001b[0m\u001b[1;33m(\u001b[0m\u001b[1;33m)\u001b[0m\u001b[1;33m\u001b[0m\u001b[1;33m\u001b[0m\u001b[0m\n",
      "\u001b[0m\u001b[1;32m    257 \u001b[1;33m\u001b[1;33m\u001b[0m\u001b[0m\n",
      "\u001b[0m\u001b[1;32m--> 258 \u001b[1;33m    \u001b[1;32mdef\u001b[0m \u001b[0m__call__\u001b[0m\u001b[1;33m(\u001b[0m\u001b[0mself\u001b[0m\u001b[1;33m,\u001b[0m \u001b[0mresult\u001b[0m\u001b[1;33m=\u001b[0m\u001b[1;32mNone\u001b[0m\u001b[1;33m)\u001b[0m\u001b[1;33m:\u001b[0m\u001b[1;33m\u001b[0m\u001b[1;33m\u001b[0m\u001b[0m\n",
      "\u001b[0m\u001b[1;32m    259 \u001b[1;33m        \"\"\"Printing with history cache management.\n",
      "\u001b[0m\u001b[1;32m    260 \u001b[1;33m\u001b[1;33m\u001b[0m\u001b[0m\n",
      "\u001b[0m\n"
     ]
    },
    {
     "name": "stdin",
     "output_type": "stream",
     "text": [
      "ipdb>  pravin\n"
     ]
    },
    {
     "name": "stdout",
     "output_type": "stream",
     "text": [
      "*** NameError: name 'pravin' is not defined\n"
     ]
    }
   ],
   "source": [
    "import pdb\n",
    "student_db ={1: {'name': 'pravin', 'English': 88, 'Maths': 89, 'Percentage': 88.5}, 2: {'name': 'pravin', 'English': 88, 'Maths': 89, 'Percentage': 88.5}}\n",
    "\n",
    "search_name = input('enter your name : ')\n",
    "name = []\n",
    "for i,j in student_db.items():\n",
    "    if j.get('name') == search_name:\n",
    "        while name:\n",
    "            name.append(j)\n",
    "            print(name)\n",
    "    else:\n",
    "        print('hey')\n",
    "\n",
    "pdb.set_trace()"
   ]
  },
  {
   "cell_type": "code",
   "execution_count": 3,
   "id": "a7453f13-c1c9-4edb-bae0-4a43bcfcd877",
   "metadata": {},
   "outputs": [
    {
     "name": "stdin",
     "output_type": "stream",
     "text": [
      "Enter the name:  pravin\n"
     ]
    },
    {
     "name": "stdout",
     "output_type": "stream",
     "text": [
      "{'name': 'pravin', 'English': 88, 'Maths': 89, 'Percentage': 88.5}\n",
      "{'name': 'pravin', 'English': 88, 'Maths': 89, 'Percentage': 88.5}\n"
     ]
    }
   ],
   "source": [
    "import pdb\n",
    "data = {\n",
    "    1: {'name': 'pravin', 'English': 88, 'Maths': 89, 'Percentage': 88.5},\n",
    "    2: {'name': 'pravin', 'English': 88, 'Maths': 89, 'Percentage': 88.5}\n",
    "}\n",
    "\n",
    "# Take input from the user\n",
    "name_input = input(\"Enter the name: \")\n",
    "\n",
    "# Function to find entries where the name matches the input\n",
    "def find_by_name(data, name):\n",
    "    results = []\n",
    "    for key, value in data.items():\n",
    "        if value.get('name') == name:\n",
    "            results.append(value)\n",
    "    return results\n",
    "\n",
    "# Get the results\n",
    "matched_entries = find_by_name(data, name_input)\n",
    "\n",
    "# Display the results\n",
    "if matched_entries:\n",
    "    for entry in matched_entries:\n",
    "        print(entry)\n",
    "else:\n",
    "    print(\"No entries found with the name:\", name_input)"
   ]
  },
  {
   "cell_type": "code",
   "execution_count": 11,
   "id": "a5d31d43-98fe-4c9d-8387-e6a63d52c236",
   "metadata": {},
   "outputs": [
    {
     "ename": "TypeError",
     "evalue": "'float' object is not iterable",
     "output_type": "error",
     "traceback": [
      "\u001b[1;31m---------------------------------------------------------------------------\u001b[0m",
      "\u001b[1;31mTypeError\u001b[0m                                 Traceback (most recent call last)",
      "Cell \u001b[1;32mIn[11], line 2\u001b[0m\n\u001b[0;32m      1\u001b[0m student_db \u001b[38;5;241m=\u001b[39m {\u001b[38;5;241m1\u001b[39m: {\u001b[38;5;124m'\u001b[39m\u001b[38;5;124mname\u001b[39m\u001b[38;5;124m'\u001b[39m: \u001b[38;5;124m'\u001b[39m\u001b[38;5;124mpravin\u001b[39m\u001b[38;5;124m'\u001b[39m, \u001b[38;5;124m'\u001b[39m\u001b[38;5;124mEnglish\u001b[39m\u001b[38;5;124m'\u001b[39m: \u001b[38;5;241m88\u001b[39m, \u001b[38;5;124m'\u001b[39m\u001b[38;5;124mMaths\u001b[39m\u001b[38;5;124m'\u001b[39m: \u001b[38;5;241m89\u001b[39m, \u001b[38;5;124m'\u001b[39m\u001b[38;5;124mPercentage\u001b[39m\u001b[38;5;124m'\u001b[39m: \u001b[38;5;241m88.5\u001b[39m}, \u001b[38;5;241m2\u001b[39m: {\u001b[38;5;124m'\u001b[39m\u001b[38;5;124mname\u001b[39m\u001b[38;5;124m'\u001b[39m: \u001b[38;5;124m'\u001b[39m\u001b[38;5;124mpravin gaikwad\u001b[39m\u001b[38;5;124m'\u001b[39m, \u001b[38;5;124m'\u001b[39m\u001b[38;5;124mEnglish\u001b[39m\u001b[38;5;124m'\u001b[39m: \u001b[38;5;241m76\u001b[39m, \u001b[38;5;124m'\u001b[39m\u001b[38;5;124mMaths\u001b[39m\u001b[38;5;124m'\u001b[39m: \u001b[38;5;241m67\u001b[39m, \u001b[38;5;124m'\u001b[39m\u001b[38;5;124mPercentage\u001b[39m\u001b[38;5;124m'\u001b[39m: \u001b[38;5;241m71.5\u001b[39m}}\n\u001b[1;32m----> 2\u001b[0m sorted_stud \u001b[38;5;241m=\u001b[39m \u001b[38;5;28;43msorted\u001b[39;49m\u001b[43m(\u001b[49m\u001b[43mstudent_db\u001b[49m\u001b[43m[\u001b[49m\u001b[38;5;241;43m1\u001b[39;49m\u001b[43m]\u001b[49m\u001b[43m[\u001b[49m\u001b[38;5;124;43m'\u001b[39;49m\u001b[38;5;124;43mPercentage\u001b[39;49m\u001b[38;5;124;43m'\u001b[39;49m\u001b[43m]\u001b[49m\u001b[43m,\u001b[49m\u001b[43mreverse\u001b[49m\u001b[43m \u001b[49m\u001b[38;5;241;43m=\u001b[39;49m\u001b[43m \u001b[49m\u001b[38;5;28;43;01mTrue\u001b[39;49;00m\u001b[43m,\u001b[49m\u001b[43mkey\u001b[49m\u001b[38;5;241;43m=\u001b[39;49m\u001b[38;5;28;43;01mlambda\u001b[39;49;00m\u001b[43m \u001b[49m\u001b[43mitem\u001b[49m\u001b[43m \u001b[49m\u001b[43m:\u001b[49m\u001b[43m \u001b[49m\u001b[43mitem\u001b[49m\u001b[43m[\u001b[49m\u001b[38;5;241;43m1\u001b[39;49m\u001b[43m]\u001b[49m\u001b[43m)\u001b[49m\n\u001b[0;32m      3\u001b[0m \u001b[38;5;28mprint\u001b[39m(sorted_stud)\n",
      "\u001b[1;31mTypeError\u001b[0m: 'float' object is not iterable"
     ]
    }
   ],
   "source": [
    "student_db = {1: {'name': 'pravin', 'English': 88, 'Maths': 89, 'Percentage': 88.5}, 2: {'name': 'pravin gaikwad', 'English': 76, 'Maths': 67, 'Percentage': 71.5}}\n",
    "sorted_stud = sorted(student_db[1]['Percentage'],reverse = True,key=lambda item : item[1])\n",
    "print(sorted_stud)"
   ]
  },
  {
   "cell_type": "code",
   "execution_count": 12,
   "id": "d7963fe3-6913-4f20-beb3-3b5d0a320b4f",
   "metadata": {},
   "outputs": [
    {
     "name": "stdout",
     "output_type": "stream",
     "text": [
      "Student ID: 1\n",
      "  name: pravin\n",
      "  English: 88\n",
      "  Maths: 89\n",
      "  Percentage: 88.5\n",
      "  Rank: 1\n",
      "\n",
      "Student ID: 2\n",
      "  name: pravin gaikwad\n",
      "  English: 76\n",
      "  Maths: 67\n",
      "  Percentage: 71.5\n",
      "  Rank: 2\n",
      "\n"
     ]
    }
   ],
   "source": [
    "# Data of students\n",
    "students = {\n",
    "    1: {'name': 'pravin', 'English': 88, 'Maths': 89, 'Percentage': 88.5},\n",
    "    2: {'name': 'pravin gaikwad', 'English': 76, 'Maths': 67, 'Percentage': 71.5}\n",
    "}\n",
    "\n",
    "# Sorting the students by percentage in descending order\n",
    "sorted_students = sorted(students.items(), key=lambda x: x[1]['Percentage'], reverse=True)\n",
    "\n",
    "# Assigning ranks to students\n",
    "ranked_students = {}\n",
    "for rank, (student_id, student_info) in enumerate(sorted_students, start=1):\n",
    "    ranked_students[student_id] = {\n",
    "        **student_info,\n",
    "        'Rank': rank\n",
    "    }\n",
    "\n",
    "# Display the ranked students\n",
    "for student_id, student_info in ranked_students.items():\n",
    "    print(f\"Student ID: {student_id}\")\n",
    "    for key, value in student_info.items():\n",
    "        print(f\"  {key}: {value}\")\n",
    "    print()\n"
   ]
  },
  {
   "cell_type": "code",
   "execution_count": 2,
   "id": "3d5c219a-0645-4d35-84d1-39a8451c3f63",
   "metadata": {},
   "outputs": [
    {
     "name": "stdout",
     "output_type": "stream",
     "text": [
      "1. Get Result\n",
      "2. Search Roll no\n",
      "3. Exit\n"
     ]
    }
   ],
   "source": [
    "stud_option = ['Get Result','Search Roll no','Exit']\n",
    "for z,y in enumerate(stud_option,1):\n",
    "    print(f'{z}. {y}')"
   ]
  },
  {
   "cell_type": "code",
   "execution_count": 5,
   "id": "16e591f5-1e6e-4889-b12f-6fe036ef55c2",
   "metadata": {},
   "outputs": [
    {
     "name": "stdout",
     "output_type": "stream",
     "text": [
      "1. Enter Student Result\n",
      "2. Search Name\n",
      "3. Get Result\n",
      "4. Exit\n"
     ]
    },
    {
     "name": "stdin",
     "output_type": "stream",
     "text": [
      "enter your choice :  4\n"
     ]
    },
    {
     "name": "stdout",
     "output_type": "stream",
     "text": [
      "Thanks!! Your session has been ended\n"
     ]
    }
   ],
   "source": [
    "def teacher_logged_in():\n",
    "    teacher_option = ['Enter Student Result','Search Name','Get Result','Exit']\n",
    "    for l,m in enumerate(teacher_option,1):\n",
    "        print(f'{l}. {m}')\n",
    "    while True:\n",
    "        global student_db\n",
    "        global roll_no\n",
    "        t_ch = int(input('enter your choice : '))\n",
    "        if t_ch == 1:\n",
    "            print('hello')            \n",
    "        elif t_ch == 2:\n",
    "            print('bye')\n",
    "        elif t_ch == 3:\n",
    "            print('chl')\n",
    "        elif t_ch == 4:\n",
    "            print('Thanks!! Your session has been ended')\n",
    "        \n",
    "            break\n",
    "        else:\n",
    "            print('error')\n",
    "    return False\n",
    "def main():\n",
    "    teacher_logged_in()\n",
    "main()"
   ]
  },
  {
   "cell_type": "code",
   "execution_count": null,
   "id": "9e7c07f1-dc23-46cf-8b87-654d9cacd8c6",
   "metadata": {},
   "outputs": [],
   "source": []
  }
 ],
 "metadata": {
  "kernelspec": {
   "display_name": "Python 3 (ipykernel)",
   "language": "python",
   "name": "python3"
  },
  "language_info": {
   "codemirror_mode": {
    "name": "ipython",
    "version": 3
   },
   "file_extension": ".py",
   "mimetype": "text/x-python",
   "name": "python",
   "nbconvert_exporter": "python",
   "pygments_lexer": "ipython3",
   "version": "3.12.2"
  }
 },
 "nbformat": 4,
 "nbformat_minor": 5
}
